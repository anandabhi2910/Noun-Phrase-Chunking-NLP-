{
 "cells": [
  {
   "cell_type": "code",
   "execution_count": 1,
   "id": "e82e5446",
   "metadata": {},
   "outputs": [],
   "source": [
    "import json\n",
    "\n",
    "# Read line-by-line JSON entries into a list\n",
    "data = []\n",
    "with open(\"train.jsonl\", \"r\") as f:\n",
    "    for line in f:\n",
    "        data.append(json.loads(line))"
   ]
  },
  {
   "cell_type": "code",
   "execution_count": 3,
   "id": "69c9fc67",
   "metadata": {},
   "outputs": [],
   "source": [
    "import numpy as np\n",
    "import json\n",
    "\n",
    "# One-hot encoding for 4 POS tags\n",
    "def one_hot(tag, num_tags=4):\n",
    "    vec = np.zeros(num_tags)\n",
    "    vec[tag - 1] = 1\n",
    "    return vec\n",
    "\n",
    "# Recurrent Perceptron with BPTT\n",
    "class RecurrentPerceptron:\n",
    "    def __init__(self, input_dim=4, hidden_dim=16, output_dim=1, lr=0.01):\n",
    "        self.hidden_dim = hidden_dim\n",
    "        self.lr = lr\n",
    "        self.W_in = np.random.randn(hidden_dim, input_dim) * 0.1\n",
    "        self.W_h = np.random.randn(hidden_dim, hidden_dim) * 0.1\n",
    "        self.b_h = np.zeros((hidden_dim, 1))\n",
    "\n",
    "        self.W_out = np.random.randn(output_dim, hidden_dim) * 0.1\n",
    "        self.b_out = np.zeros((output_dim, 1))\n",
    "\n",
    "    def sigmoid(self, x):\n",
    "        return 1 / (1 + np.exp(-x))\n",
    "\n",
    "    def sigmoid_deriv(self, y):\n",
    "        return y * (1 - y)\n",
    "\n",
    "    def tanh(self, x):\n",
    "        return np.tanh(x)\n",
    "\n",
    "    def tanh_deriv(self, h):\n",
    "        return 1 - h**2\n",
    "\n",
    "    def forward(self, inputs):\n",
    "        h = np.zeros((self.hidden_dim, 1))\n",
    "        hs = []\n",
    "        ys = []\n",
    "\n",
    "        for x in inputs:\n",
    "            x = x.reshape(-1, 1)\n",
    "            h = self.tanh(self.W_in @ x + self.W_h @ h + self.b_h)\n",
    "            y = self.sigmoid(self.W_out @ h + self.b_out)\n",
    "            hs.append(h)\n",
    "            ys.append(y)\n",
    "        return ys, hs\n",
    "\n",
    "    def bptt(self, input_tags, target_labels):\n",
    "        inputs = [one_hot(tag) for tag in input_tags]\n",
    "        targets = [np.array([[label]]) for label in target_labels]\n",
    "\n",
    "        ys, hs = self.forward(inputs)\n",
    "\n",
    "        dW_in = np.zeros_like(self.W_in)\n",
    "        dW_h = np.zeros_like(self.W_h)\n",
    "        db_h = np.zeros_like(self.b_h)\n",
    "        dW_out = np.zeros_like(self.W_out)\n",
    "        db_out = np.zeros_like(self.b_out)\n",
    "\n",
    "        dh_next = np.zeros((self.hidden_dim, 1))\n",
    "\n",
    "        for t in reversed(range(len(inputs))):\n",
    "            dy = ys[t] - targets[t]\n",
    "            dW_out += dy @ hs[t].T\n",
    "            db_out += dy\n",
    "\n",
    "            dh = self.W_out.T @ dy + dh_next\n",
    "            dtanh = dh * self.tanh_deriv(hs[t])\n",
    "            dW_in += dtanh @ inputs[t].reshape(1, -1)\n",
    "            db_h += dtanh\n",
    "            if t > 0:\n",
    "                dW_h += dtanh @ hs[t - 1].T\n",
    "                dh_next = self.W_h.T @ dtanh\n",
    "\n",
    "        # Gradient descent\n",
    "        for param, dparam in zip(\n",
    "            [self.W_in, self.W_h, self.b_h, self.W_out, self.b_out],\n",
    "            [dW_in, dW_h, db_h, dW_out, db_out]\n",
    "        ):\n",
    "            param -= self.lr * dparam\n",
    "\n",
    "    def predict(self, pos_tags):\n",
    "        inputs = [one_hot(tag) for tag in pos_tags]\n",
    "        ys, _ = self.forward(inputs)\n",
    "        return [int(y[0][0] > 0.5) for y in ys]"
   ]
  },
  {
   "cell_type": "code",
   "execution_count": 4,
   "id": "fe99ce90",
   "metadata": {},
   "outputs": [
    {
     "name": "stdout",
     "output_type": "stream",
     "text": [
      "Epoch 0 complete\n",
      "Epoch 5 complete\n",
      "Epoch 10 complete\n",
      "Epoch 15 complete\n",
      "Epoch 20 complete\n",
      "Epoch 25 complete\n"
     ]
    }
   ],
   "source": [
    "# Initialize and train\n",
    "model = RecurrentPerceptron()\n",
    "\n",
    "for epoch in range(30):\n",
    "    for sample in data:\n",
    "        model.bptt(sample[\"pos_tags\"], sample[\"chunk_tags\"])\n",
    "    if epoch % 5 == 0:\n",
    "        print(f\"Epoch {epoch} complete\")"
   ]
  },
  {
   "cell_type": "code",
   "execution_count": 5,
   "id": "a8757f82",
   "metadata": {},
   "outputs": [],
   "source": [
    "# Read line-by-line JSON entries into a list\n",
    "data1 = []\n",
    "with open(\"test.jsonl\", \"r\") as f:\n",
    "    for line in f:\n",
    "        data1.append(json.loads(line))"
   ]
  },
  {
   "cell_type": "code",
   "execution_count": 6,
   "id": "8961318f",
   "metadata": {},
   "outputs": [
    {
     "name": "stdout",
     "output_type": "stream",
     "text": [
      "\n",
      "Tokens:     ['SOCCER', '-', 'JAPAN', 'GET', 'LUCKY', 'WIN', ',', 'CHINA', 'IN', 'SURPRISE', 'DEFEAT', '.']\n",
      "POS Tags:   [1, 4, 1, 4, 1, 1, 4, 1, 4, 2, 1, 4]\n",
      "True Chunks:[1, 1, 1, 1, 1, 0, 1, 1, 1, 1, 0, 1]\n",
      "Predicted:  [1, 0, 1, 0, 1, 0, 1, 1, 1, 1, 0, 1]\n",
      "\n",
      "Tokens:     ['Nadim', 'Ladki']\n",
      "POS Tags:   [1, 1]\n",
      "True Chunks:[1, 0]\n",
      "Predicted:  [1, 0]\n",
      "\n",
      "Tokens:     ['AL-AIN', ',', 'United', 'Arab', 'Emirates', '1996-12-06']\n",
      "POS Tags:   [1, 4, 1, 1, 1, 4]\n",
      "True Chunks:[1, 1, 1, 0, 0, 0]\n",
      "Predicted:  [1, 0, 1, 0, 0, 1]\n",
      "\n",
      "Tokens:     ['Japan', 'began', 'the', 'defence', 'of', 'their', 'Asian', 'Cup', 'title', 'with', 'a', 'lucky', '2-1', 'win', 'against', 'Syria', 'in', 'a', 'Group', 'C', 'championship', 'match', 'on', 'Friday', '.']\n",
      "POS Tags:   [1, 4, 2, 1, 4, 4, 3, 1, 1, 4, 2, 3, 4, 4, 4, 1, 4, 2, 1, 1, 1, 1, 4, 1, 4]\n",
      "True Chunks:[1, 1, 1, 0, 1, 1, 0, 0, 0, 1, 1, 0, 0, 1, 1, 1, 1, 1, 0, 0, 0, 0, 1, 1, 1]\n",
      "Predicted:  [1, 0, 1, 0, 1, 1, 1, 0, 0, 1, 1, 0, 0, 0, 0, 1, 1, 1, 0, 0, 0, 0, 1, 1, 1]\n",
      "\n",
      "Tokens:     ['But', 'China', 'saw', 'their', 'luck', 'desert', 'them', 'in', 'the', 'second', 'match', 'of', 'the', 'group', ',', 'crashing', 'to', 'a', 'surprise', '2-0', 'defeat', 'to', 'newcomers', 'Uzbekistan', '.']\n",
      "POS Tags:   [4, 1, 4, 4, 1, 4, 4, 4, 2, 1, 1, 4, 2, 1, 4, 4, 4, 2, 1, 4, 1, 4, 1, 1, 4]\n",
      "True Chunks:[1, 1, 1, 1, 0, 1, 1, 1, 1, 0, 0, 1, 1, 0, 1, 1, 1, 1, 0, 0, 0, 1, 1, 0, 1]\n",
      "Predicted:  [1, 1, 1, 1, 1, 1, 1, 0, 1, 0, 0, 1, 1, 0, 1, 1, 0, 1, 0, 1, 1, 1, 1, 0, 1]\n"
     ]
    }
   ],
   "source": [
    "# Show predictions on training data\n",
    "for sample in data1[:5]:  # show first 5 samples\n",
    "    pred = model.predict(sample[\"pos_tags\"])\n",
    "    print(f\"\\nTokens:     {sample['tokens']}\")\n",
    "    print(f\"POS Tags:   {sample['pos_tags']}\")\n",
    "    print(f\"True Chunks:{sample['chunk_tags']}\")\n",
    "    print(f\"Predicted:  {pred}\")"
   ]
  },
  {
   "cell_type": "code",
   "execution_count": 7,
   "id": "66746e9a",
   "metadata": {},
   "outputs": [
    {
     "name": "stdout",
     "output_type": "stream",
     "text": [
      "\n",
      "Training Accuracy: 0.7822\n",
      "Test Accuracy: 0.7786\n"
     ]
    }
   ],
   "source": [
    "def calculate_accuracy(model, data):\n",
    "    correct_predictions = 0\n",
    "    total_predictions = 0\n",
    "    for sample in data:\n",
    "        predicted_chunks = model.predict(sample[\"pos_tags\"])\n",
    "        true_chunks = sample[\"chunk_tags\"]\n",
    "\n",
    "        # Ensure the lengths are the same before comparison\n",
    "        min_len = min(len(predicted_chunks), len(true_chunks))\n",
    "        for i in range(min_len):\n",
    "            if predicted_chunks[i] == true_chunks[i]:\n",
    "                correct_predictions += 1\n",
    "            total_predictions += 1\n",
    "\n",
    "    accuracy = correct_predictions / total_predictions if total_predictions > 0 else 0\n",
    "    return accuracy\n",
    "\n",
    "# Calculate accuracy on the training data\n",
    "train_accuracy = calculate_accuracy(model, data)\n",
    "print(f\"\\nTraining Accuracy: {train_accuracy:.4f}\")\n",
    "\n",
    "# Calculate accuracy on the test data\n",
    "test_accuracy = calculate_accuracy(model, data1)\n",
    "print(f\"Test Accuracy: {test_accuracy:.4f}\")\n"
   ]
  },
  {
   "cell_type": "code",
   "execution_count": null,
   "id": "2946cb9e",
   "metadata": {},
   "outputs": [],
   "source": []
  }
 ],
 "metadata": {
  "kernelspec": {
   "display_name": "myenv",
   "language": "python",
   "name": "python3"
  },
  "language_info": {
   "codemirror_mode": {
    "name": "ipython",
    "version": 3
   },
   "file_extension": ".py",
   "mimetype": "text/x-python",
   "name": "python",
   "nbconvert_exporter": "python",
   "pygments_lexer": "ipython3",
   "version": "3.10.4"
  }
 },
 "nbformat": 4,
 "nbformat_minor": 5
}
